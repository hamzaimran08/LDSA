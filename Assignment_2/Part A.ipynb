{
 "cells": [
  {
   "cell_type": "code",
   "execution_count": 1,
   "metadata": {},
   "outputs": [],
   "source": [
    "from pyspark.sql import SparkSession\n",
    "\n",
    "# (8 cores, 16gb per machine) x 5 = 40 cores\n",
    "\n",
    "# New API\n",
    "spark_session = SparkSession\\\n",
    "        .builder\\\n",
    "        .master(\"spark://192.168.1.153:7077\") \\\n",
    "        .appName(\"Part-A-Hamza_Imran_Saeed\")\\\n",
    "        .config(\"spark.dynamicAllocation.enabled\", True)\\\n",
    "        .config(\"spark.shuffle.service.enabled\", True)\\\n",
    "        .config(\"spark.dynamicAllocation.executorIdleTimeout\",\"30s\")\\\n",
    "        .config(\"spark.executor.cores\",4)\\\n",
    "        .getOrCreate()\n",
    "\n",
    "\n",
    "# Old API (RDD)\n",
    "spark_context = spark_session.sparkContext"
   ]
  },
  {
   "cell_type": "code",
   "execution_count": 2,
   "metadata": {},
   "outputs": [
    {
     "name": "stdout",
     "output_type": "stream",
     "text": [
      "1862234\n"
     ]
    }
   ],
   "source": [
    "## A1.1\n",
    "\n",
    "#counting lines\n",
    "def countLines(myrdd):\n",
    "    lineCount = myrdd.map(lambda s: 1)\n",
    "    lineCount.persist()\n",
    "    totalLines = lineCount.reduce(lambda a,b:a+b)\n",
    "    return totalLines\n",
    "\n",
    "en_1 = spark_context.textFile(\"hdfs://192.168.1.153:9000/europarl/europarl-v7.sv-en.en\")\n",
    "totalLinesEN = countLines(en_1)\n",
    "print(totalLinesEN)"
   ]
  },
  {
   "cell_type": "code",
   "execution_count": 3,
   "metadata": {},
   "outputs": [
    {
     "name": "stdout",
     "output_type": "stream",
     "text": [
      "1862234\n"
     ]
    }
   ],
   "source": [
    "## A1.2\n",
    "sv_1 = spark_context.textFile(\"hdfs://192.168.1.153:9000/europarl/europarl-v7.sv-en.sv\")\n",
    "totalLinesSV = countLines(sv_1)\n",
    "print(totalLinesSV)"
   ]
  },
  {
   "cell_type": "code",
   "execution_count": 4,
   "metadata": {},
   "outputs": [
    {
     "name": "stdout",
     "output_type": "stream",
     "text": [
      "Is line count same for the two laguages? True\n"
     ]
    }
   ],
   "source": [
    "## A1.3\n",
    "print(\"Is line count same for the two laguages? \"+ str(totalLinesEN==totalLinesSV) )"
   ]
  },
  {
   "cell_type": "code",
   "execution_count": 5,
   "metadata": {},
   "outputs": [
    {
     "name": "stdout",
     "output_type": "stream",
     "text": [
      "Partitions for English transcripts: 2\n",
      "Partitions for Swedish transcripts: 3\n"
     ]
    }
   ],
   "source": [
    "## A1.4\n",
    "print(\"Partitions for English transcripts: \"+ str(en_1.getNumPartitions()))\n",
    "print(\"Partitions for Swedish transcripts: \"+ str(sv_1.getNumPartitions()))"
   ]
  },
  {
   "cell_type": "code",
   "execution_count": 6,
   "metadata": {},
   "outputs": [],
   "source": [
    "## A2.1\n",
    "# Preprocessing text fucntion\n",
    "def preProcess(myrdd):\n",
    "    myrdd = myrdd.lower()\n",
    "    myrdd = myrdd.split(' ')\n",
    "    return myrdd\n",
    "\n",
    "en_2 = en_1.map(preProcess)\n",
    "sv_2 = sv_1.map(preProcess)\n"
   ]
  },
  {
   "cell_type": "code",
   "execution_count": 7,
   "metadata": {},
   "outputs": [
    {
     "data": {
      "text/plain": [
       "[['resumption', 'of', 'the', 'session'],\n",
       " ['i',\n",
       "  'declare',\n",
       "  'resumed',\n",
       "  'the',\n",
       "  'session',\n",
       "  'of',\n",
       "  'the',\n",
       "  'european',\n",
       "  'parliament',\n",
       "  'adjourned',\n",
       "  'on',\n",
       "  'friday',\n",
       "  '17',\n",
       "  'december',\n",
       "  '1999,',\n",
       "  'and',\n",
       "  'i',\n",
       "  'would',\n",
       "  'like',\n",
       "  'once',\n",
       "  'again',\n",
       "  'to',\n",
       "  'wish',\n",
       "  'you',\n",
       "  'a',\n",
       "  'happy',\n",
       "  'new',\n",
       "  'year',\n",
       "  'in',\n",
       "  'the',\n",
       "  'hope',\n",
       "  'that',\n",
       "  'you',\n",
       "  'enjoyed',\n",
       "  'a',\n",
       "  'pleasant',\n",
       "  'festive',\n",
       "  'period.'],\n",
       " ['although,',\n",
       "  'as',\n",
       "  'you',\n",
       "  'will',\n",
       "  'have',\n",
       "  'seen,',\n",
       "  'the',\n",
       "  'dreaded',\n",
       "  \"'millennium\",\n",
       "  \"bug'\",\n",
       "  'failed',\n",
       "  'to',\n",
       "  'materialise,',\n",
       "  'still',\n",
       "  'the',\n",
       "  'people',\n",
       "  'in',\n",
       "  'a',\n",
       "  'number',\n",
       "  'of',\n",
       "  'countries',\n",
       "  'suffered',\n",
       "  'a',\n",
       "  'series',\n",
       "  'of',\n",
       "  'natural',\n",
       "  'disasters',\n",
       "  'that',\n",
       "  'truly',\n",
       "  'were',\n",
       "  'dreadful.'],\n",
       " ['you',\n",
       "  'have',\n",
       "  'requested',\n",
       "  'a',\n",
       "  'debate',\n",
       "  'on',\n",
       "  'this',\n",
       "  'subject',\n",
       "  'in',\n",
       "  'the',\n",
       "  'course',\n",
       "  'of',\n",
       "  'the',\n",
       "  'next',\n",
       "  'few',\n",
       "  'days,',\n",
       "  'during',\n",
       "  'this',\n",
       "  'part-session.'],\n",
       " ['in',\n",
       "  'the',\n",
       "  'meantime,',\n",
       "  'i',\n",
       "  'should',\n",
       "  'like',\n",
       "  'to',\n",
       "  'observe',\n",
       "  'a',\n",
       "  \"minute'\",\n",
       "  's',\n",
       "  'silence,',\n",
       "  'as',\n",
       "  'a',\n",
       "  'number',\n",
       "  'of',\n",
       "  'members',\n",
       "  'have',\n",
       "  'requested,',\n",
       "  'on',\n",
       "  'behalf',\n",
       "  'of',\n",
       "  'all',\n",
       "  'the',\n",
       "  'victims',\n",
       "  'concerned,',\n",
       "  'particularly',\n",
       "  'those',\n",
       "  'of',\n",
       "  'the',\n",
       "  'terrible',\n",
       "  'storms,',\n",
       "  'in',\n",
       "  'the',\n",
       "  'various',\n",
       "  'countries',\n",
       "  'of',\n",
       "  'the',\n",
       "  'european',\n",
       "  'union.'],\n",
       " ['please', 'rise,', 'then,', 'for', 'this', \"minute'\", 's', 'silence.'],\n",
       " ['(the', 'house', 'rose', 'and', 'observed', 'a', \"minute'\", 's', 'silence)'],\n",
       " ['madam', 'president,', 'on', 'a', 'point', 'of', 'order.'],\n",
       " ['you',\n",
       "  'will',\n",
       "  'be',\n",
       "  'aware',\n",
       "  'from',\n",
       "  'the',\n",
       "  'press',\n",
       "  'and',\n",
       "  'television',\n",
       "  'that',\n",
       "  'there',\n",
       "  'have',\n",
       "  'been',\n",
       "  'a',\n",
       "  'number',\n",
       "  'of',\n",
       "  'bomb',\n",
       "  'explosions',\n",
       "  'and',\n",
       "  'killings',\n",
       "  'in',\n",
       "  'sri',\n",
       "  'lanka.'],\n",
       " ['one',\n",
       "  'of',\n",
       "  'the',\n",
       "  'people',\n",
       "  'assassinated',\n",
       "  'very',\n",
       "  'recently',\n",
       "  'in',\n",
       "  'sri',\n",
       "  'lanka',\n",
       "  'was',\n",
       "  'mr',\n",
       "  'kumar',\n",
       "  'ponnambalam,',\n",
       "  'who',\n",
       "  'had',\n",
       "  'visited',\n",
       "  'the',\n",
       "  'european',\n",
       "  'parliament',\n",
       "  'just',\n",
       "  'a',\n",
       "  'few',\n",
       "  'months',\n",
       "  'ago.']]"
      ]
     },
     "execution_count": 7,
     "metadata": {},
     "output_type": "execute_result"
    }
   ],
   "source": [
    "## A2.2 Part 1\n",
    "en_2.take(10)"
   ]
  },
  {
   "cell_type": "code",
   "execution_count": 8,
   "metadata": {},
   "outputs": [
    {
     "data": {
      "text/plain": [
       "[['återupptagande', 'av', 'sessionen'],\n",
       " ['jag',\n",
       "  'förklarar',\n",
       "  'europaparlamentets',\n",
       "  'session',\n",
       "  'återupptagen',\n",
       "  'efter',\n",
       "  'avbrottet',\n",
       "  'den',\n",
       "  '17',\n",
       "  'december.',\n",
       "  'jag',\n",
       "  'vill',\n",
       "  'på',\n",
       "  'nytt',\n",
       "  'önska',\n",
       "  'er',\n",
       "  'ett',\n",
       "  'gott',\n",
       "  'nytt',\n",
       "  'år',\n",
       "  'och',\n",
       "  'jag',\n",
       "  'hoppas',\n",
       "  'att',\n",
       "  'ni',\n",
       "  'haft',\n",
       "  'en',\n",
       "  'trevlig',\n",
       "  'semester.'],\n",
       " ['som',\n",
       "  'ni',\n",
       "  'kunnat',\n",
       "  'konstatera',\n",
       "  'ägde',\n",
       "  '\"den',\n",
       "  'stora',\n",
       "  'år',\n",
       "  '2000-buggen\"',\n",
       "  'aldrig',\n",
       "  'rum.',\n",
       "  'däremot',\n",
       "  'har',\n",
       "  'invånarna',\n",
       "  'i',\n",
       "  'ett',\n",
       "  'antal',\n",
       "  'av',\n",
       "  'våra',\n",
       "  'medlemsländer',\n",
       "  'drabbats',\n",
       "  'av',\n",
       "  'naturkatastrofer',\n",
       "  'som',\n",
       "  'verkligen',\n",
       "  'varit',\n",
       "  'förskräckliga.'],\n",
       " ['ni',\n",
       "  'har',\n",
       "  'begärt',\n",
       "  'en',\n",
       "  'debatt',\n",
       "  'i',\n",
       "  'ämnet',\n",
       "  'under',\n",
       "  'sammanträdesperiodens',\n",
       "  'kommande',\n",
       "  'dagar.'],\n",
       " ['till',\n",
       "  'dess',\n",
       "  'vill',\n",
       "  'jag',\n",
       "  'att',\n",
       "  'vi,',\n",
       "  'som',\n",
       "  'ett',\n",
       "  'antal',\n",
       "  'kolleger',\n",
       "  'begärt,',\n",
       "  'håller',\n",
       "  'en',\n",
       "  'tyst',\n",
       "  'minut',\n",
       "  'för',\n",
       "  'offren',\n",
       "  'för',\n",
       "  'bl.a.',\n",
       "  'stormarna',\n",
       "  'i',\n",
       "  'de',\n",
       "  'länder',\n",
       "  'i',\n",
       "  'europeiska',\n",
       "  'unionen',\n",
       "  'som',\n",
       "  'drabbats.'],\n",
       " ['jag', 'ber', 'er', 'resa', 'er', 'för', 'en', 'tyst', 'minut.'],\n",
       " ['(parlamentet', 'höll', 'en', 'tyst', 'minut.)'],\n",
       " ['fru', 'talman!', 'det', 'gäller', 'en', 'ordningsfråga.'],\n",
       " ['ni',\n",
       "  'känner',\n",
       "  'till',\n",
       "  'från',\n",
       "  'media',\n",
       "  'att',\n",
       "  'det',\n",
       "  'skett',\n",
       "  'en',\n",
       "  'rad',\n",
       "  'bombexplosioner',\n",
       "  'och',\n",
       "  'mord',\n",
       "  'i',\n",
       "  'sri',\n",
       "  'lanka.'],\n",
       " ['en',\n",
       "  'av',\n",
       "  'de',\n",
       "  'personer',\n",
       "  'som',\n",
       "  'mycket',\n",
       "  'nyligen',\n",
       "  'mördades',\n",
       "  'i',\n",
       "  'sri',\n",
       "  'lanka',\n",
       "  'var',\n",
       "  'kumar',\n",
       "  'ponnambalam,',\n",
       "  'som',\n",
       "  'besökte',\n",
       "  'europaparlamentet',\n",
       "  'för',\n",
       "  'bara',\n",
       "  'några',\n",
       "  'månader',\n",
       "  'sedan.']]"
      ]
     },
     "execution_count": 8,
     "metadata": {},
     "output_type": "execute_result"
    }
   ],
   "source": [
    "## A2.2 Part 2\n",
    "sv_2.take(10)"
   ]
  },
  {
   "cell_type": "code",
   "execution_count": 9,
   "metadata": {},
   "outputs": [
    {
     "name": "stdout",
     "output_type": "stream",
     "text": [
      "1862234\n",
      "1862234\n",
      "Is line count same for the two laguages after pre processing? True\n"
     ]
    }
   ],
   "source": [
    "## A2.3\n",
    "\n",
    "totalLinesEN2 = countLines(en_2)\n",
    "print(totalLinesEN2)\n",
    "totalLinesSV2 = countLines(sv_2)\n",
    "print(totalLinesSV2)\n",
    "print(\"Is line count same for the two laguages after pre processing? \"+ str(totalLinesEN2==totalLinesSV2) )"
   ]
  },
  {
   "cell_type": "code",
   "execution_count": 10,
   "metadata": {},
   "outputs": [
    {
     "data": {
      "text/plain": [
       "[('the', 3498375),\n",
       " ('of', 1659758),\n",
       " ('to', 1539760),\n",
       " ('and', 1288401),\n",
       " ('in', 1085993),\n",
       " ('that', 797516),\n",
       " ('a', 773522),\n",
       " ('is', 758050),\n",
       " ('for', 534242),\n",
       " ('we', 522849)]"
      ]
     },
     "execution_count": 10,
     "metadata": {},
     "output_type": "execute_result"
    }
   ],
   "source": [
    "## A3.1 English\n",
    "\n",
    "en_2.flatMap(lambda a: a).map(lambda word: (word, 1)).reduceByKey(lambda a, b: a + b).sortBy(lambda a: a[1],ascending=False).take(10)\n"
   ]
  },
  {
   "cell_type": "code",
   "execution_count": 11,
   "metadata": {},
   "outputs": [
    {
     "data": {
      "text/plain": [
       "[('att', 1706293),\n",
       " ('och', 1344830),\n",
       " ('i', 1050774),\n",
       " ('det', 924866),\n",
       " ('som', 913276),\n",
       " ('för', 908680),\n",
       " ('av', 738068),\n",
       " ('är', 694381),\n",
       " ('en', 620310),\n",
       " ('vi', 539797)]"
      ]
     },
     "execution_count": 11,
     "metadata": {},
     "output_type": "execute_result"
    }
   ],
   "source": [
    "## A3.1 Swedish\n",
    "\n",
    "sv_2.flatMap(lambda a: a).map(lambda word: (word, 1)).reduceByKey(lambda a, b: a + b).sortBy(lambda a: a[1],ascending=False).take(10)\n"
   ]
  },
  {
   "cell_type": "code",
   "execution_count": 12,
   "metadata": {},
   "outputs": [],
   "source": [
    "## A4.1 and 4.2\n",
    "\n",
    "en_3 = en_2.zipWithIndex().map(lambda t : (t[1],t[0]))\n",
    "sv_3 = sv_2.zipWithIndex().map(lambda t : (t[1],t[0]))\n"
   ]
  },
  {
   "cell_type": "code",
   "execution_count": 13,
   "metadata": {},
   "outputs": [
    {
     "data": {
      "text/plain": [
       "[(0, ['resumption', 'of', 'the', 'session']),\n",
       " (1,\n",
       "  ['i',\n",
       "   'declare',\n",
       "   'resumed',\n",
       "   'the',\n",
       "   'session',\n",
       "   'of',\n",
       "   'the',\n",
       "   'european',\n",
       "   'parliament',\n",
       "   'adjourned',\n",
       "   'on',\n",
       "   'friday',\n",
       "   '17',\n",
       "   'december',\n",
       "   '1999,',\n",
       "   'and',\n",
       "   'i',\n",
       "   'would',\n",
       "   'like',\n",
       "   'once',\n",
       "   'again',\n",
       "   'to',\n",
       "   'wish',\n",
       "   'you',\n",
       "   'a',\n",
       "   'happy',\n",
       "   'new',\n",
       "   'year',\n",
       "   'in',\n",
       "   'the',\n",
       "   'hope',\n",
       "   'that',\n",
       "   'you',\n",
       "   'enjoyed',\n",
       "   'a',\n",
       "   'pleasant',\n",
       "   'festive',\n",
       "   'period.'])]"
      ]
     },
     "execution_count": 13,
     "metadata": {},
     "output_type": "execute_result"
    }
   ],
   "source": [
    "## A4.1\n",
    "en_3.take(2)"
   ]
  },
  {
   "cell_type": "code",
   "execution_count": 14,
   "metadata": {},
   "outputs": [
    {
     "data": {
      "text/plain": [
       "[(0, ['återupptagande', 'av', 'sessionen']),\n",
       " (1,\n",
       "  ['jag',\n",
       "   'förklarar',\n",
       "   'europaparlamentets',\n",
       "   'session',\n",
       "   'återupptagen',\n",
       "   'efter',\n",
       "   'avbrottet',\n",
       "   'den',\n",
       "   '17',\n",
       "   'december.',\n",
       "   'jag',\n",
       "   'vill',\n",
       "   'på',\n",
       "   'nytt',\n",
       "   'önska',\n",
       "   'er',\n",
       "   'ett',\n",
       "   'gott',\n",
       "   'nytt',\n",
       "   'år',\n",
       "   'och',\n",
       "   'jag',\n",
       "   'hoppas',\n",
       "   'att',\n",
       "   'ni',\n",
       "   'haft',\n",
       "   'en',\n",
       "   'trevlig',\n",
       "   'semester.'])]"
      ]
     },
     "execution_count": 14,
     "metadata": {},
     "output_type": "execute_result"
    }
   ],
   "source": [
    "## A4.1\n",
    "sv_3.take(2)"
   ]
  },
  {
   "cell_type": "code",
   "execution_count": 15,
   "metadata": {},
   "outputs": [],
   "source": [
    "## A4.3\n",
    "joined = en_3.join(sv_3)"
   ]
  },
  {
   "cell_type": "code",
   "execution_count": 16,
   "metadata": {},
   "outputs": [],
   "source": [
    "## A4.4\n",
    "filterMissing = joined.filter(lambda a: a[1][1] and a[1][0])"
   ]
  },
  {
   "cell_type": "code",
   "execution_count": 17,
   "metadata": {},
   "outputs": [
    {
     "data": {
      "text/plain": [
       "[(33030,\n",
       "  (['as',\n",
       "    'the',\n",
       "    'member',\n",
       "    'states,',\n",
       "    'that',\n",
       "    'is',\n",
       "    'to',\n",
       "    'say',\n",
       "    'the',\n",
       "    'council,',\n",
       "    'has',\n",
       "    'advocated',\n",
       "    'discharge,',\n",
       "    'this',\n",
       "    'is',\n",
       "    'almost',\n",
       "    'a',\n",
       "    'matter',\n",
       "    'of',\n",
       "    'structural',\n",
       "    'conflict.'],\n",
       "   ['eftersom',\n",
       "    'medlemsstaterna,',\n",
       "    'dvs.',\n",
       "    'rådet,',\n",
       "    'tillstyrkt',\n",
       "    'ansvarsfrihet',\n",
       "    'handlar',\n",
       "    'det',\n",
       "    'om',\n",
       "    'en',\n",
       "    'nära',\n",
       "    'nog',\n",
       "    'strukturell',\n",
       "    'konflikt.'])),\n",
       " (48945,\n",
       "  (['but',\n",
       "    'words',\n",
       "    'are',\n",
       "    'not',\n",
       "    'enough.',\n",
       "    'they',\n",
       "    'must',\n",
       "    'be',\n",
       "    'matched',\n",
       "    'by',\n",
       "    'deeds',\n",
       "    '-',\n",
       "    'their',\n",
       "    'deeds.'],\n",
       "   ['det',\n",
       "    'måste',\n",
       "    'komma',\n",
       "    'till',\n",
       "    'uttryck',\n",
       "    'i',\n",
       "    'handling',\n",
       "    '-',\n",
       "    'deras',\n",
       "    'handling.'])),\n",
       " (59085,\n",
       "  (['it',\n",
       "    'is',\n",
       "    'also',\n",
       "    'based',\n",
       "    'on',\n",
       "    'shared',\n",
       "    'values,',\n",
       "    'on',\n",
       "    'respect',\n",
       "    'for',\n",
       "    'cultural,',\n",
       "    'religious',\n",
       "    'and',\n",
       "    'linguistic',\n",
       "    'differences,',\n",
       "    'and',\n",
       "    'on',\n",
       "    'policies',\n",
       "    'capable',\n",
       "    'of',\n",
       "    'producing',\n",
       "    'prosperity',\n",
       "    'and',\n",
       "    'security',\n",
       "    'for',\n",
       "    'the',\n",
       "    'entire',\n",
       "    'mediterranean',\n",
       "    'area.'],\n",
       "   ['den',\n",
       "    'grundar',\n",
       "    'sig',\n",
       "    'även',\n",
       "    'på',\n",
       "    'gemensamma',\n",
       "    'värderingar,',\n",
       "    'med',\n",
       "    'respekt',\n",
       "    'för',\n",
       "    'kulturella,',\n",
       "    'religiösa',\n",
       "    'och',\n",
       "    'språkliga',\n",
       "    'skillnader,',\n",
       "    'och',\n",
       "    'på',\n",
       "    'en',\n",
       "    'politik',\n",
       "    'som',\n",
       "    'förmår',\n",
       "    'bygga',\n",
       "    'välstånd',\n",
       "    'och',\n",
       "    'säkerhet',\n",
       "    'i',\n",
       "    'hela',\n",
       "    'medelhavsområdet.']))]"
      ]
     },
     "execution_count": 17,
     "metadata": {},
     "output_type": "execute_result"
    }
   ],
   "source": [
    "## A4.4\n",
    "filterMissing.take(3)"
   ]
  },
  {
   "cell_type": "code",
   "execution_count": 18,
   "metadata": {},
   "outputs": [],
   "source": [
    "## A4.5 and 4.6\n",
    "filterWordsPerSentence = filterMissing.filter(lambda a: ((len(a[1][1]) < 5) and (len(a[1][0]) < 5)) and (len(a[1][1])==len(a[1][0]))   )"
   ]
  },
  {
   "cell_type": "code",
   "execution_count": 19,
   "metadata": {},
   "outputs": [
    {
     "data": {
      "text/plain": [
       "[(462015,\n",
       "  (['that', 'is', 'the', 'content.'],\n",
       "   ['detta', 'är', 'textens', 'innehåll.'])),\n",
       " (813475,\n",
       "  (['thank', 'you,', 'commissioner.'],\n",
       "   ['tack,', 'herr', 'kommissionsledamot.'])),\n",
       " (370680,\n",
       "  (['we', 'went', 'even', 'further.'], ['vi', 'gick', 'ännu', 'längre.'])),\n",
       " (251550, ([''], ['.'])),\n",
       " (454060,\n",
       "  (['that', 'should', 'not', 'happen.'], ['detta', 'bör', 'inte', 'ske.'])),\n",
       " (73085,\n",
       "  (['the', 'debate', 'is', 'closed.'],\n",
       "   ['jag', 'förklarar', 'debatten', 'avslutad.'])),\n",
       " (24935, ([''], ['.'])),\n",
       " (144805, (['lulling.'], ['lulling.'])),\n",
       " (202295,\n",
       "  (['that', 'goes', 'without', 'saying.'],\n",
       "   ['det', 'säger', 'sig', 'självt.'])),\n",
       " (450135, (['\\xa0\\xa0', '.'], ['\\xa0\\xa0', '.']))]"
      ]
     },
     "execution_count": 19,
     "metadata": {},
     "output_type": "execute_result"
    }
   ],
   "source": [
    "## A4.5 and 4.6\n",
    "filterWordsPerSentence.take(10)"
   ]
  },
  {
   "cell_type": "code",
   "execution_count": 20,
   "metadata": {},
   "outputs": [],
   "source": [
    "## A4.7\n",
    "pairs = filterWordsPerSentence.map(lambda a: list(zip(a[1][0],a[1][1]))).flatMap(lambda a: a).map(lambda word: (word, 1))"
   ]
  },
  {
   "cell_type": "code",
   "execution_count": 21,
   "metadata": {},
   "outputs": [
    {
     "data": {
      "text/plain": [
       "[(('.', '.'), 1),\n",
       " (('', '.'), 1),\n",
       " (('(laughter)', '(skratt)'), 1),\n",
       " (('yes', 'ja'), 1),\n",
       " (('possibly', 'möjligtvis'), 1),\n",
       " (('later.', 'senare.'), 1),\n",
       " (('(applause)', '(applåder)'), 1),\n",
       " (('the', 'jag'), 1),\n",
       " (('debate', 'förklarar'), 1),\n",
       " (('is', 'debatten'), 1)]"
      ]
     },
     "execution_count": 21,
     "metadata": {},
     "output_type": "execute_result"
    }
   ],
   "source": [
    "## A4.7\n",
    "pairs.take(10)"
   ]
  },
  {
   "cell_type": "code",
   "execution_count": 22,
   "metadata": {},
   "outputs": [],
   "source": [
    "## A4.8\n",
    "pairCount = pairs.reduceByKey(lambda a, b: a + b).sortBy(lambda a: a[1],ascending=False)"
   ]
  },
  {
   "cell_type": "code",
   "execution_count": 23,
   "metadata": {},
   "outputs": [
    {
     "data": {
      "text/plain": [
       "[(('(applause)', '(applåder)'), 2546),\n",
       " (('closed.', 'avslutad.'), 2534),\n",
       " (('is', 'är'), 2380),\n",
       " (('', '.'), 2223),\n",
       " (('.', '.'), 2082),\n",
       " (('is', 'debatten'), 1324),\n",
       " (('the', 'jag'), 1324),\n",
       " (('debate', 'förklarar'), 1317),\n",
       " (('the', 'debatten'), 1225),\n",
       " (('is', 'härmed'), 1215),\n",
       " (('debate', 'är'), 1187),\n",
       " (('(rule', '(artikel'), 893),\n",
       " (('that', 'det'), 852),\n",
       " (('written', 'skriftliga'), 847),\n",
       " (('\\xa0\\xa0', '\\xa0\\xa0'), 842),\n",
       " (('statements', 'förklaringar'), 801),\n",
       " (('we', 'vi'), 636),\n",
       " (('i', 'jag'), 629),\n",
       " (('this', 'detta'), 582),\n",
       " (('142)', '142)'), 557),\n",
       " (('it', 'det'), 515),\n",
       " (('applause', 'applåder'), 461),\n",
       " (('1.', '1.'), 438),\n",
       " (('2.', '2.'), 438),\n",
       " (('there', 'det'), 429),\n",
       " (('3.', '3.'), 405),\n",
       " (('why?', 'varför?'), 372),\n",
       " (('-', '-'), 367),\n",
       " (('are', 'är'), 364),\n",
       " (('this', 'det'), 361)]"
      ]
     },
     "execution_count": 23,
     "metadata": {},
     "output_type": "execute_result"
    }
   ],
   "source": [
    "## A4.8\n",
    "pairCount.take(30)"
   ]
  },
  {
   "cell_type": "code",
   "execution_count": 24,
   "metadata": {},
   "outputs": [],
   "source": [
    "# release the cores for another application!\n",
    "spark_context.stop()"
   ]
  }
 ],
 "metadata": {
  "kernelspec": {
   "display_name": "Python 3",
   "language": "python",
   "name": "python3"
  },
  "language_info": {
   "codemirror_mode": {
    "name": "ipython",
    "version": 3
   },
   "file_extension": ".py",
   "mimetype": "text/x-python",
   "name": "python",
   "nbconvert_exporter": "python",
   "pygments_lexer": "ipython3",
   "version": "3.6.8"
  }
 },
 "nbformat": 4,
 "nbformat_minor": 2
}
