{
 "cells": [
  {
   "cell_type": "code",
   "execution_count": 1,
   "metadata": {},
   "outputs": [],
   "source": [
    "from pyspark.sql import SparkSession\n",
    "\n",
    "# (8 cores, 16gb per machine) x 5 = 40 cores\n",
    "\n",
    "# New API\n",
    "spark_session = SparkSession\\\n",
    "        .builder\\\n",
    "        .master(\"local[1]\") \\\n",
    "        .config(\"spark.dynamicAllocation.enabled\", True)\\\n",
    "        .config(\"spark.shuffle.service.enabled\", True)\\\n",
    "        .config(\"spark.dynamicAllocation.executorIdleTimeout\",\"30s\")\\\n",
    "        .config(\"spark.executor.cores\",4)\\\n",
    "        .appName(\"Part-B-Hamza_Imran_Saeed\")\\\n",
    "        .getOrCreate()\n",
    "\n",
    "# Old API (RDD)\n",
    "spark_context = spark_session.sparkContext"
   ]
  },
  {
   "cell_type": "code",
   "execution_count": 2,
   "metadata": {},
   "outputs": [],
   "source": [
    "## B.1\n",
    "data_frame = spark_session.read\\\n",
    "    .option(\"header\", \"true\")\\\n",
    "    .csv(\"hdfs://192.168.1.153:9000/parking-citations.csv\")\\\n",
    "    .cache()"
   ]
  },
  {
   "cell_type": "code",
   "execution_count": 3,
   "metadata": {},
   "outputs": [
    {
     "data": {
      "text/plain": [
       "9257460"
      ]
     },
     "execution_count": 3,
     "metadata": {},
     "output_type": "execute_result"
    }
   ],
   "source": [
    "## B.3\n",
    "data_frame.count()"
   ]
  },
  {
   "cell_type": "code",
   "execution_count": 4,
   "metadata": {
    "scrolled": true
   },
   "outputs": [
    {
     "name": "stdout",
     "output_type": "stream",
     "text": [
      "+-------------+-------------------+----------+--------+-----------+--------------+-----------------+----+----+----------+-----+--------------------+-----+------+--------------+---------------------+-----------+---------+---------+\n",
      "|Ticket number|         Issue Date|Issue time|Meter Id|Marked Time|RP State Plate|Plate Expiry Date| VIN|Make|Body Style|Color|            Location|Route|Agency|Violation code|Violation Description|Fine amount| Latitude|Longitude|\n",
      "+-------------+-------------------+----------+--------+-----------+--------------+-----------------+----+----+----------+-----+--------------------+-----+------+--------------+---------------------+-----------+---------+---------+\n",
      "|   1103341116|2015-12-21T00:00:00|      1251|    null|       null|            CA|           200304|null|HOND|        PA|   GY|     13147 WELBY WAY|01521|     1|        4000A1|   NO EVIDENCE OF REG|         50|    99999|    99999|\n",
      "|   1103700150|2015-12-21T00:00:00|      1435|    null|       null|            CA|           201512|null| GMC|        VN|   WH|       525 S MAIN ST| 1C51|     1|        4000A1|   NO EVIDENCE OF REG|         50|    99999|    99999|\n",
      "|   1104803000|2015-12-21T00:00:00|      2055|    null|       null|            CA|           201503|null|NISS|        PA|   BK|       200 WORLD WAY|  2R2|     2|          8939|           WHITE CURB|         58|6439997.9|1802686.4|\n",
      "|   1104820732|2015-12-26T00:00:00|      1515|    null|       null|            CA|             null|null|ACUR|        PA|   WH|       100 WORLD WAY| 2F11|     2|           000|               17104h|       null|6440041.1|1802686.2|\n",
      "|   1105461453|2015-09-15T00:00:00|       115|    null|       null|            CA|           200316|null|CHEV|        PA|   BK|  GEORGIA ST/OLYMPIC|1FB70|     1|         8069A| NO STOPPING/STANDING|         93|    99999|    99999|\n",
      "|   1106226590|2015-09-15T00:00:00|        19|    null|       null|            CA|           201507|null|CHEV|        VN|   GY|  SAN PEDRO S/O BOYD|1A35W|     1|        4000A1|   NO EVIDENCE OF REG|         50|    99999|    99999|\n",
      "|   1106500452|2015-12-17T00:00:00|      1710|    null|       null|            CA|           201605|null|MAZD|        PA|   BL|     SUNSET/ALVARADO|00217|     1|          8070| PARK IN GRID LOCK ZN|        163|    99999|    99999|\n",
      "|   1106500463|2015-12-17T00:00:00|      1710|    null|       null|            CA|           201602|null|TOYO|        PA|   BK|     SUNSET/ALVARADO|00217|     1|          8070| PARK IN GRID LOCK ZN|        163|    99999|    99999|\n",
      "|   1106506402|2015-12-22T00:00:00|       945|    null|       null|            CA|           201605|null|CHEV|        PA|   BR|      721 S WESTLAKE| 2A75|     1|        8069AA|     NO STOP/STAND AM|         93|    99999|    99999|\n",
      "|   1106506413|2015-12-22T00:00:00|      1100|    null|       null|            CA|           201701|null|NISS|        PA|   SI|     1159 HUNTLEY DR| 2A75|     1|        8069AA|     NO STOP/STAND AM|         93|    99999|    99999|\n",
      "|   1106506424|2015-12-22T00:00:00|      1100|    null|       null|            CA|           201511|null|FORD|        TR|   WH|     1159 HUNTLEY DR| 2A75|     1|        8069AA|     NO STOP/STAND AM|         93|    99999|    99999|\n",
      "|   1106506435|2015-12-22T00:00:00|      1105|    null|       null|            CA|           201701|null|CHRY|        PA|   GO|     1159 HUNTLEY DR| 2A75|     1|        8069AA|     NO STOP/STAND AM|         93|    99999|    99999|\n",
      "|   1106506446|2015-12-22T00:00:00|      1110|    null|       null|            CA|           201511|null| BMW|        PA|   BK|      1200 W MIRAMAR| 2A75|     1|        4000A1|   NO EVIDENCE OF REG|         50|    99999|    99999|\n",
      "|   1106549754|2015-12-15T00:00:00|       825|    null|       null|            CA|           201607|null|PTRB|        TR|   BK|           4TH/STATE| CM96|     1|         8069A| NO STOPPING/STANDING|         93|    99999|    99999|\n",
      "|   1107179581|2015-12-27T00:00:00|      1055|    null|       null|            CA|           201605|null|TOYO|        PA|   BK|3100 N HOLLYRIDGE DR| null|    54|         8058L|         PREF PARKING|         68|    99999|    99999|\n",
      "|   1107179592|2015-12-27T00:00:00|      1200|    null|       null|            CA|           201602|null|MBNZ|        PA|   BK|   3115 N BERENDO DR| null|    54|         8058L|         PREF PARKING|         68|    99999|    99999|\n",
      "|   1107179603|2015-12-27T00:00:00|      1400|    null|       null|            CA|           201611|null|NISS|        PA|   WH| 3100 N BEACHWOOD DR| null|    54|         8058L|         PREF PARKING|         68|    99999|    99999|\n",
      "|   1107539823|2015-09-16T00:00:00|      2120|    null|       null|            CA|           201502|null|NISS|        PA| null|      BLAINE/11TH PL|1FB95|     1|        4000A1|   NO EVIDENCE OF REG|         50|    99999|    99999|\n",
      "|   1107539834|2015-09-16T00:00:00|      1045|    null|       null|            CA|             null|null|CHEV|        PA|   BK|  1246 S FIGUEROA ST| 1L20|     1|        8069AP|     NO STOP/STAND PM|         93|    99999|    99999|\n",
      "|   1107780811|2015-12-22T00:00:00|      1102|    null|       null|            CA|           201606|null|HOND|        PA|   BK|       PLATA/RAMPART|  2A1|     1|         8069B|           NO PARKING|         73|    99999|    99999|\n",
      "+-------------+-------------------+----------+--------+-----------+--------------+-----------------+----+----+----------+-----+--------------------+-----+------+--------------+---------------------+-----------+---------+---------+\n",
      "only showing top 20 rows\n",
      "\n"
     ]
    }
   ],
   "source": [
    "## B.1\n",
    "data_frame.show()"
   ]
  },
  {
   "cell_type": "code",
   "execution_count": 5,
   "metadata": {
    "scrolled": true
   },
   "outputs": [
    {
     "name": "stdout",
     "output_type": "stream",
     "text": [
      "root\n",
      " |-- Ticket number: string (nullable = true)\n",
      " |-- Issue Date: string (nullable = true)\n",
      " |-- Issue time: string (nullable = true)\n",
      " |-- Meter Id: string (nullable = true)\n",
      " |-- Marked Time: string (nullable = true)\n",
      " |-- RP State Plate: string (nullable = true)\n",
      " |-- Plate Expiry Date: string (nullable = true)\n",
      " |-- VIN: string (nullable = true)\n",
      " |-- Make: string (nullable = true)\n",
      " |-- Body Style: string (nullable = true)\n",
      " |-- Color: string (nullable = true)\n",
      " |-- Location: string (nullable = true)\n",
      " |-- Route: string (nullable = true)\n",
      " |-- Agency: string (nullable = true)\n",
      " |-- Violation code: string (nullable = true)\n",
      " |-- Violation Description: string (nullable = true)\n",
      " |-- Fine amount: string (nullable = true)\n",
      " |-- Latitude: string (nullable = true)\n",
      " |-- Longitude: string (nullable = true)\n",
      "\n"
     ]
    }
   ],
   "source": [
    "## B.2\n",
    "data_frame.printSchema()"
   ]
  },
  {
   "cell_type": "code",
   "execution_count": 6,
   "metadata": {},
   "outputs": [
    {
     "data": {
      "text/plain": [
       "10"
      ]
     },
     "execution_count": 6,
     "metadata": {},
     "output_type": "execute_result"
    }
   ],
   "source": [
    "## B.4\n",
    "data_frame.rdd.getNumPartitions()"
   ]
  },
  {
   "cell_type": "code",
   "execution_count": 7,
   "metadata": {},
   "outputs": [],
   "source": [
    "## B.5\n",
    "columns_to_drop = ['VIN', 'Latitude', 'Longitude']\n",
    "data_frame = data_frame.drop(*columns_to_drop)"
   ]
  },
  {
   "cell_type": "code",
   "execution_count": 8,
   "metadata": {},
   "outputs": [
    {
     "name": "stdout",
     "output_type": "stream",
     "text": [
      "root\n",
      " |-- Ticket number: string (nullable = true)\n",
      " |-- Issue Date: string (nullable = true)\n",
      " |-- Issue time: string (nullable = true)\n",
      " |-- Meter Id: string (nullable = true)\n",
      " |-- Marked Time: string (nullable = true)\n",
      " |-- RP State Plate: string (nullable = true)\n",
      " |-- Plate Expiry Date: string (nullable = true)\n",
      " |-- Make: string (nullable = true)\n",
      " |-- Body Style: string (nullable = true)\n",
      " |-- Color: string (nullable = true)\n",
      " |-- Location: string (nullable = true)\n",
      " |-- Route: string (nullable = true)\n",
      " |-- Agency: string (nullable = true)\n",
      " |-- Violation code: string (nullable = true)\n",
      " |-- Violation Description: string (nullable = true)\n",
      " |-- Fine amount: string (nullable = true)\n",
      "\n"
     ]
    }
   ],
   "source": [
    "## B.5\n",
    "data_frame.printSchema()"
   ]
  },
  {
   "cell_type": "code",
   "execution_count": 9,
   "metadata": {},
   "outputs": [
    {
     "data": {
      "text/plain": [
       "[Row(Fine amount=505, count=6),\n",
       " Row(Fine amount=363, count=63366),\n",
       " Row(Fine amount=353, count=15),\n",
       " Row(Fine amount=345, count=40),\n",
       " Row(Fine amount=330, count=1),\n",
       " Row(Fine amount=293, count=10401),\n",
       " Row(Fine amount=255, count=30),\n",
       " Row(Fine amount=163, count=106748),\n",
       " Row(Fine amount=155, count=1),\n",
       " Row(Fine amount=143, count=373),\n",
       " Row(Fine amount=133, count=9185),\n",
       " Row(Fine amount=128, count=338),\n",
       " Row(Fine amount=123, count=3),\n",
       " Row(Fine amount=113, count=2),\n",
       " Row(Fine amount=105, count=729),\n",
       " Row(Fine amount=103, count=7401),\n",
       " Row(Fine amount=98, count=333),\n",
       " Row(Fine amount=93, count=1097437),\n",
       " Row(Fine amount=88, count=158),\n",
       " Row(Fine amount=85, count=5),\n",
       " Row(Fine amount=80, count=25),\n",
       " Row(Fine amount=78, count=34321),\n",
       " Row(Fine amount=75, count=4),\n",
       " Row(Fine amount=73, count=3096053),\n",
       " Row(Fine amount=70, count=6),\n",
       " Row(Fine amount=68, count=1329058),\n",
       " Row(Fine amount=65, count=5),\n",
       " Row(Fine amount=63, count=1760811),\n",
       " Row(Fine amount=60, count=406),\n",
       " Row(Fine amount=58, count=762773)]"
      ]
     },
     "execution_count": 9,
     "metadata": {},
     "output_type": "execute_result"
    }
   ],
   "source": [
    "## B.6\n",
    "from pyspark.sql.types import IntegerType\n",
    "data_frame_2 = data_frame.withColumn(\"Fine amount\", data_frame[\"Fine amount\"].cast(IntegerType()))\n",
    "max_fine = data_frame_2.groupby('Fine amount')\\\n",
    "      .count().orderBy('Fine amount', ascending=False)\n",
    "#     .agg({'Fine amount': 'max'}).count().orderBy('max(Fine amount)', ascending=True)\n",
    "max_fine.take(30)\n",
    "#     "
   ]
  },
  {
   "cell_type": "code",
   "execution_count": 10,
   "metadata": {},
   "outputs": [
    {
     "name": "stdout",
     "output_type": "stream",
     "text": [
      "Max Fine amount is: 505 and its count is: 6\n"
     ]
    }
   ],
   "source": [
    "## B.6\n",
    "maxAndCount = max_fine.take(1)\n",
    "print(\"Max Fine amount is: \" + str(maxAndCount[0][0]) + \" and its count is: \"+str(maxAndCount[0][1]))"
   ]
  },
  {
   "cell_type": "code",
   "execution_count": 11,
   "metadata": {},
   "outputs": [
    {
     "data": {
      "text/plain": [
       "[Row(Make='TOYT', count=1531949),\n",
       " Row(Make='HOND', count=1043276),\n",
       " Row(Make='FORD', count=807498),\n",
       " Row(Make='NISS', count=662097),\n",
       " Row(Make='CHEV', count=631413),\n",
       " Row(Make='BMW', count=422916),\n",
       " Row(Make='MERZ', count=376830),\n",
       " Row(Make='VOLK', count=316002),\n",
       " Row(Make='HYUN', count=285286),\n",
       " Row(Make='DODG', count=271590),\n",
       " Row(Make='LEXS', count=263269),\n",
       " Row(Make='KIA', count=217795),\n",
       " Row(Make='JEEP', count=214965),\n",
       " Row(Make='AUDI', count=179718),\n",
       " Row(Make='MAZD', count=169811),\n",
       " Row(Make='OTHR', count=154376),\n",
       " Row(Make='GMC', count=132788),\n",
       " Row(Make='INFI', count=120340),\n",
       " Row(Make='CHRY', count=120317),\n",
       " Row(Make='ACUR', count=111265)]"
      ]
     },
     "execution_count": 11,
     "metadata": {},
     "output_type": "execute_result"
    }
   ],
   "source": [
    "## B.7\n",
    "vehicles = data_frame.groupby('Make')\\\n",
    "      .count().orderBy('count', ascending=False)\n",
    "vehicles.take(20)"
   ]
  },
  {
   "cell_type": "code",
   "execution_count": 12,
   "metadata": {},
   "outputs": [
    {
     "name": "stdout",
     "output_type": "stream",
     "text": [
      "+-----+----------+\n",
      "|Color|color long|\n",
      "+-----+----------+\n",
      "|   GY|      Gray|\n",
      "|   WH|     White|\n",
      "|   BK|     Black|\n",
      "|   WH|     White|\n",
      "|   BK|     Black|\n",
      "|   GY|      Gray|\n",
      "|   BL|      Blue|\n",
      "|   BK|     Black|\n",
      "|   BR|     Brown|\n",
      "|   SI|    Silver|\n",
      "|   WH|     White|\n",
      "|   GO|      Gold|\n",
      "|   BK|     Black|\n",
      "|   BK|     Black|\n",
      "|   BK|     Black|\n",
      "|   BK|     Black|\n",
      "|   WH|     White|\n",
      "| null|      null|\n",
      "|   BK|     Black|\n",
      "|   BK|     Black|\n",
      "+-----+----------+\n",
      "only showing top 20 rows\n",
      "\n"
     ]
    }
   ],
   "source": [
    "## B.8\n",
    "import pyspark\n",
    "from pyspark.sql.functions import udf\n",
    "from pyspark.sql.types import StringType\n",
    "\n",
    "def color_to_colorlong(color):\n",
    "  COLORS = {'AL':'Aluminum', 'AM':'Amber', 'BG':'Beige', 'BK':'Black',\n",
    "            'BL':'Blue', 'BN':'Brown', 'BR':'Brown', 'BZ':'Bronze',\n",
    "            'CH':'Charcoal', 'DK':'Dark', 'GD':'Gold', 'GO':'Gold',\n",
    "            'GN':'Green', 'GY':'Gray', 'GT':'Granite', 'IV':'Ivory',\n",
    "            'LT':'Light', 'OL':'Olive', 'OR':'Orange', 'MR':'Maroon',\n",
    "            'PK':'Pink', 'RD':'Red', 'RE':'Red', 'SI':'Silver', 'SL':'Silver',\n",
    "            'SM':'Smoke', 'TN':'Tan', 'VT':'Violet', 'WT':'White',\n",
    "            'WH':'White', 'YL':'Yellow', 'YE':'Yellow', 'UN':'Unknown'}\n",
    "  if color in COLORS:\n",
    "        return COLORS[color]\n",
    "  return color\n",
    "\n",
    "# User-defined function. Input type is a string.\n",
    "udf_color_to_colorlong = udf(color_to_colorlong, StringType())\n",
    "\n",
    "\n",
    "# 9999: missing (with scale factor of 10)\n",
    "data_frame_with_colorlong = data_frame.withColumn(\"color long\", udf_color_to_colorlong(\"Color\"))\n",
    "# data_frame_with_wnd_speed = data_frame_with_wnd_speed.filter(data_frame_with_wnd_speed['WND_SPEED_MS'] <= 900)\n",
    "\n",
    "data_frame_with_colorlong.cache()\n",
    "\n",
    "data_frame_with_colorlong.select('Color', 'color long').show()"
   ]
  },
  {
   "cell_type": "code",
   "execution_count": 13,
   "metadata": {},
   "outputs": [
    {
     "name": "stdout",
     "output_type": "stream",
     "text": [
      "root\n",
      " |-- Ticket number: string (nullable = true)\n",
      " |-- Issue Date: string (nullable = true)\n",
      " |-- Issue time: string (nullable = true)\n",
      " |-- Meter Id: string (nullable = true)\n",
      " |-- Marked Time: string (nullable = true)\n",
      " |-- RP State Plate: string (nullable = true)\n",
      " |-- Plate Expiry Date: string (nullable = true)\n",
      " |-- Make: string (nullable = true)\n",
      " |-- Body Style: string (nullable = true)\n",
      " |-- Color: string (nullable = true)\n",
      " |-- Location: string (nullable = true)\n",
      " |-- Route: string (nullable = true)\n",
      " |-- Agency: string (nullable = true)\n",
      " |-- Violation code: string (nullable = true)\n",
      " |-- Violation Description: string (nullable = true)\n",
      " |-- Fine amount: string (nullable = true)\n",
      " |-- color long: string (nullable = true)\n",
      "\n"
     ]
    }
   ],
   "source": [
    "## B.8\n",
    "data_frame_with_colorlong.printSchema()"
   ]
  },
  {
   "cell_type": "code",
   "execution_count": 14,
   "metadata": {},
   "outputs": [
    {
     "name": "stdout",
     "output_type": "stream",
     "text": [
      "+----------+------+\n",
      "|color long| count|\n",
      "+----------+------+\n",
      "|      Gray|346822|\n",
      "|     White|304620|\n",
      "|     Black|252199|\n",
      "|    Silver|248685|\n",
      "|      Blue|128051|\n",
      "|       Red| 84175|\n",
      "|     Green| 57627|\n",
      "|      Gold| 30154|\n",
      "|    Maroon| 19882|\n",
      "|       Tan| 17006|\n",
      "|     Beige| 11572|\n",
      "|        OT| 10805|\n",
      "|     Brown|  8466|\n",
      "|    Yellow|  3413|\n",
      "|        PR|  3010|\n",
      "|    Orange|  2527|\n",
      "|   Unknown|  1343|\n",
      "|        TU|  1077|\n",
      "|        CO|   423|\n",
      "|      Pink|    89|\n",
      "+----------+------+\n",
      "only showing top 20 rows\n",
      "\n"
     ]
    }
   ],
   "source": [
    "## B.9\n",
    "toyotas = data_frame_with_colorlong.filter(\"Make = 'TOYT'\").groupby('color long')\\\n",
    "      .count().orderBy('count', ascending=False)\n",
    "toyotas.show()"
   ]
  },
  {
   "cell_type": "code",
   "execution_count": 15,
   "metadata": {},
   "outputs": [],
   "source": [
    "## B.10\n",
    "# data_frame_plot = spark_session.read\\\n",
    "#     .option(\"header\", \"true\")\\\n",
    "#     .csv(\"hdfs://192.168.1.153:9000/parking-citations.csv\")\\\n",
    "#     .cache()"
   ]
  },
  {
   "cell_type": "code",
   "execution_count": 16,
   "metadata": {},
   "outputs": [],
   "source": [
    "# import pandas as pd\n",
    "# import os\n",
    "\n",
    "# def load_housing_data(housing_path='hdfs://192.168.1.153:9000/'):\n",
    "# #     csv_path = os.path.join(housing_path, \"parking-citations.csv\")\n",
    "#     url=\"hdfs://192.168.1.153:9000/parking-citations.csv\"\n",
    "#     return pd.read_csv(url)\n",
    "# sqlContext = SQLContext(spark_context)\n",
    "# csvDf = sqlContext.read.format(\"csv\").option(\"header\", \"true\").option(\"inferschema\", \"true\").option(\"mode\", \"DROPMALFORMED\").load(\"hdfs://192.168.1.153:9000/parking-citations.csv\") \n",
    "# pd_df=data_frame_plot.toPandas()\n",
    "# housing = csvDf.toPandas()\n",
    "# housing = data_frame_plot.select(\"*\").toPandas()\n",
    "# housing = load_housing_data()\n",
    "# housing.head()\n",
    "# data_frame_plot.show()"
   ]
  },
  {
   "cell_type": "code",
   "execution_count": 17,
   "metadata": {},
   "outputs": [],
   "source": [
    "# import matplotlib.pyplot as plt\n",
    "# data_frame_plot.plot(kind=\"scatter\", x=\"Longitude\", y=\"Latitude\", alpha=0.4)\n",
    "# plt.show()"
   ]
  },
  {
   "cell_type": "code",
   "execution_count": null,
   "metadata": {},
   "outputs": [],
   "source": []
  },
  {
   "cell_type": "code",
   "execution_count": 18,
   "metadata": {},
   "outputs": [],
   "source": [
    "# import plotly\n",
    "# import plotly.plotly as py\n",
    "# import plotly.graph_objs as go\n",
    "# plotly.offline.init_notebook_mode()\n",
    "\n",
    "# import pandas as pd\n",
    "# coords = pd.concat([data_frame_plot['Latitude'], data_frame_plot['Longitude']], axis=1)\n",
    "# coords = coords.sample(frac=0.1, replace=True)\n",
    "# cases = []\n",
    "# colors = ['rgb(239,243,255)','rgb(189,215,231)','rgb(107,174,214)','rgb(33,113,181)']\n",
    "# months = {6:'June',7:'July',8:'Aug',9:'Sept'}\n",
    "\n",
    "# for i in range(6,10)[::-1]:\n",
    "#     cases.append(go.Scattergeo(\n",
    "#         lon = coords['longitude'],\n",
    "#         lat = coords['latitude'],\n",
    "#         marker = dict(\n",
    "#             size = 1,\n",
    "#             color = 'colors[i-6]',\n",
    "#             opacity = .4,\n",
    "#             line = dict(width = 0)\n",
    "#         ),\n",
    "#     ) )\n",
    "\n",
    "# cases[0]['mode'] = 'markers'\n",
    "\n",
    "# layout = go.Layout(\n",
    "#     title = 'Hey look! It\\'s a scatter plot on a map!',\n",
    "#     geo = dict(\n",
    "#         resolution = 100,\n",
    "#         scope = 'usa',\n",
    "#         showframe = False,\n",
    "#         showcoastlines = True,\n",
    "#         showland = True,\n",
    "#         landcolor = \"rgb(229, 229, 229)\",\n",
    "#         countrycolor = \"rgb(255, 255, 255)\" ,\n",
    "#         coastlinecolor = \"rgb(255, 255, 255)\",\n",
    "#         projection = dict(\n",
    "#             type = 'Mercator'\n",
    "#         ),\n",
    "#         lonaxis = dict( range= [ -124.0, -113.0 ] ),\n",
    "#         lataxis = dict( range= [ 32.0, 43.0 ] ),\n",
    "        \n",
    "#     ),\n",
    "#     legend = dict(\n",
    "#            traceorder = 'reversed'\n",
    "#     )\n",
    "# )\n",
    "\n",
    "\n",
    "# fig = go.Figure(layout=layout, data=cases)\n",
    "# plotly.offline.iplot(fig, validate=False, filename='iantest')"
   ]
  }
 ],
 "metadata": {
  "kernelspec": {
   "display_name": "Python 3",
   "language": "python",
   "name": "python3"
  },
  "language_info": {
   "codemirror_mode": {
    "name": "ipython",
    "version": 3
   },
   "file_extension": ".py",
   "mimetype": "text/x-python",
   "name": "python",
   "nbconvert_exporter": "python",
   "pygments_lexer": "ipython3",
   "version": "3.5.2"
  }
 },
 "nbformat": 4,
 "nbformat_minor": 2
}
