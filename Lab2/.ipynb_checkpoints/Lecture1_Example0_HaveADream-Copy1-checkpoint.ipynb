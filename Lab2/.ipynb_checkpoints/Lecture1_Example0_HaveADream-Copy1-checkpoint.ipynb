{
 "cells": [
  {
   "cell_type": "code",
   "execution_count": 1,
   "metadata": {},
   "outputs": [],
   "source": [
    "from pyspark.sql import SparkSession\n",
    "\n",
    "# (8 cores, 16gb per machine) x 5 = 40 cores\n",
    "\n",
    "# New API\n",
    "spark_session = SparkSession\\\n",
    "        .builder\\\n",
    "        .master(\"local[1]\") \\\n",
    "        .appName(\"dream_king\")\\\n",
    "        .config(\"spark.dynamicAllocation.enabled\", True)\\\n",
    "        .config(\"spark.shuffle.service.enabled\", True)\\\n",
    "        .config(\"spark.dynamicAllocation.executorIdleTimeout\",\"30s\")\\\n",
    "        .config(\"spark.executor.cores\",4)\\\n",
    "        .getOrCreate()\n",
    "\n",
    "# Old API (RDD)\n",
    "spark_context = spark_session.sparkContext"
   ]
  },
  {
   "cell_type": "code",
   "execution_count": 2,
   "metadata": {},
   "outputs": [
    {
     "name": "stdout",
     "output_type": "stream",
     "text": [
      "I am happy to join with you today in what will go down in history as the greatest demonstration for freedom in the history of our nation.\n",
      "['I', 'am', 'happy', 'to', 'join', 'with', 'you', 'today', 'in', 'what']\n"
     ]
    }
   ],
   "source": [
    "def split_line(line):\n",
    "    return line.split(' ')\n",
    "\n",
    "\n",
    "lines = spark_context.textFile(\"hdfs://192.168.1.153:9000/king-dream.txt\")\n",
    "print(lines.first())\n",
    "lines_splitted = lines.flatMap(split_line)\n",
    "print(lines_splitted.take(10))"
   ]
  },
  {
   "cell_type": "code",
   "execution_count": 3,
   "metadata": {},
   "outputs": [
    {
     "data": {
      "text/plain": [
       "['down',\n",
       " 'demonstration',\n",
       " 'decree',\n",
       " 'daybreak',\n",
       " 'discrimination.',\n",
       " 'dramatize',\n",
       " 'defaulted',\n",
       " 'demand',\n",
       " 'drug',\n",
       " 'democracy.',\n",
       " 'dark',\n",
       " 'desolate',\n",
       " 'discontent',\n",
       " 'day',\n",
       " 'deeds.',\n",
       " 'drinking',\n",
       " 'dignity',\n",
       " 'discipline.',\n",
       " 'degenerate',\n",
       " 'distrust']"
      ]
     },
     "execution_count": 3,
     "metadata": {},
     "output_type": "execute_result"
    }
   ],
   "source": [
    "lines.flatMap(lambda line: line.split(' ')).filter(lambda word: word.startswith('d')).take(20)"
   ]
  },
  {
   "cell_type": "code",
   "execution_count": null,
   "metadata": {},
   "outputs": [],
   "source": []
  },
  {
   "cell_type": "code",
   "execution_count": 4,
   "metadata": {},
   "outputs": [],
   "source": [
    "# release the cores for another application!\n",
    "# spark_context.stop()"
   ]
  }
 ],
 "metadata": {
  "kernelspec": {
   "display_name": "Python 3",
   "language": "python",
   "name": "python3"
  },
  "language_info": {
   "codemirror_mode": {
    "name": "ipython",
    "version": 3
   },
   "file_extension": ".py",
   "mimetype": "text/x-python",
   "name": "python",
   "nbconvert_exporter": "python",
   "pygments_lexer": "ipython3",
   "version": "3.5.2"
  }
 },
 "nbformat": 4,
 "nbformat_minor": 2
}
