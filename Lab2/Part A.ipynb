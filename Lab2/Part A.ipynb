{
 "cells": [
  {
   "cell_type": "code",
   "execution_count": 1,
   "metadata": {},
   "outputs": [],
   "source": [
    "from pyspark.sql import SparkSession\n",
    "\n",
    "# (8 cores, 16gb per machine) x 5 = 40 cores\n",
    "\n",
    "# New API\n",
    "spark_session = SparkSession\\\n",
    "        .builder\\\n",
    "        .master(\"local[1]\") \\\n",
    "        .appName(\"Part-A-Hamza_Imran_Saeed\")\\\n",
    "        .config(\"spark.dynamicAllocation.enabled\", True)\\\n",
    "        .config(\"spark.shuffle.service.enabled\", True)\\\n",
    "        .config(\"spark.dynamicAllocation.executorIdleTimeout\",\"30s\")\\\n",
    "        .config(\"spark.executor.cores\",4)\\\n",
    "        .getOrCreate()\n",
    "\n",
    "# Old API (RDD)\n",
    "spark_context = spark_session.sparkContext"
   ]
  },
  {
   "cell_type": "code",
   "execution_count": 2,
   "metadata": {},
   "outputs": [
    {
     "name": "stdout",
     "output_type": "stream",
     "text": [
      "1862234\n"
     ]
    }
   ],
   "source": [
    "## A1.1\n",
    "\n",
    "#counting lines\n",
    "def countLines(myrdd):\n",
    "    lineCount = myrdd.map(lambda s: 1)\n",
    "    lineCount.persist()\n",
    "    totalLines = lineCount.reduce(lambda a,b:a+b)\n",
    "    return totalLines\n",
    "\n",
    "en_1 = spark_context.textFile(\"hdfs://192.168.1.153:9000/europarl/europarl-v7.sv-en.en\")\n",
    "totalLinesEN = countLines(en_1)\n",
    "print(totalLinesEN)\n",
    "\n",
    "\n",
    "# wordCounts = lines.map{line => line.split(\"[\\\\p{Punct}\\\\p{Space}]\").filter(_ == \"ERROR\").size}.reduce(_ + _)"
   ]
  },
  {
   "cell_type": "code",
   "execution_count": 3,
   "metadata": {},
   "outputs": [
    {
     "name": "stdout",
     "output_type": "stream",
     "text": [
      "1862234\n"
     ]
    }
   ],
   "source": [
    "## A1.2\n",
    "sv_1 = spark_context.textFile(\"hdfs://192.168.1.153:9000/europarl/europarl-v7.sv-en.sv\")\n",
    "totalLinesSV = countLines(sv_1)\n",
    "print(totalLinesSV)"
   ]
  },
  {
   "cell_type": "code",
   "execution_count": 4,
   "metadata": {},
   "outputs": [
    {
     "name": "stdout",
     "output_type": "stream",
     "text": [
      "Is line count same for the two laguages? True\n"
     ]
    }
   ],
   "source": [
    "## A1.3\n",
    "print(\"Is line count same for the two laguages? \"+ str(totalLinesEN==totalLinesSV) )"
   ]
  },
  {
   "cell_type": "code",
   "execution_count": 5,
   "metadata": {},
   "outputs": [
    {
     "name": "stdout",
     "output_type": "stream",
     "text": [
      "Partitions for English transcripts: 2\n",
      "Partitions for Swedish transcripts: 3\n"
     ]
    }
   ],
   "source": [
    "## A1.4\n",
    "print(\"Partitions for English transcripts: \"+ str(en_1.getNumPartitions()))\n",
    "print(\"Partitions for Swedish transcripts: \"+ str(sv_1.getNumPartitions()))"
   ]
  },
  {
   "cell_type": "code",
   "execution_count": 6,
   "metadata": {},
   "outputs": [],
   "source": [
    "## A2.1\n",
    "# Preprocessing text fucntion\n",
    "def preProcess(myrdd):\n",
    "    myrdd = myrdd.lower()\n",
    "    myrdd = myrdd.split()\n",
    "    return myrdd\n",
    "\n",
    "en_2 = en_1.map(preProcess)\n",
    "sv_2 = sv_1.map(preProcess)\n"
   ]
  },
  {
   "cell_type": "code",
   "execution_count": 7,
   "metadata": {},
   "outputs": [
    {
     "data": {
      "text/plain": [
       "[['resumption', 'of', 'the', 'session'],\n",
       " ['i',\n",
       "  'declare',\n",
       "  'resumed',\n",
       "  'the',\n",
       "  'session',\n",
       "  'of',\n",
       "  'the',\n",
       "  'european',\n",
       "  'parliament',\n",
       "  'adjourned',\n",
       "  'on',\n",
       "  'friday',\n",
       "  '17',\n",
       "  'december',\n",
       "  '1999,',\n",
       "  'and',\n",
       "  'i',\n",
       "  'would',\n",
       "  'like',\n",
       "  'once',\n",
       "  'again',\n",
       "  'to',\n",
       "  'wish',\n",
       "  'you',\n",
       "  'a',\n",
       "  'happy',\n",
       "  'new',\n",
       "  'year',\n",
       "  'in',\n",
       "  'the',\n",
       "  'hope',\n",
       "  'that',\n",
       "  'you',\n",
       "  'enjoyed',\n",
       "  'a',\n",
       "  'pleasant',\n",
       "  'festive',\n",
       "  'period.'],\n",
       " ['although,',\n",
       "  'as',\n",
       "  'you',\n",
       "  'will',\n",
       "  'have',\n",
       "  'seen,',\n",
       "  'the',\n",
       "  'dreaded',\n",
       "  \"'millennium\",\n",
       "  \"bug'\",\n",
       "  'failed',\n",
       "  'to',\n",
       "  'materialise,',\n",
       "  'still',\n",
       "  'the',\n",
       "  'people',\n",
       "  'in',\n",
       "  'a',\n",
       "  'number',\n",
       "  'of',\n",
       "  'countries',\n",
       "  'suffered',\n",
       "  'a',\n",
       "  'series',\n",
       "  'of',\n",
       "  'natural',\n",
       "  'disasters',\n",
       "  'that',\n",
       "  'truly',\n",
       "  'were',\n",
       "  'dreadful.'],\n",
       " ['you',\n",
       "  'have',\n",
       "  'requested',\n",
       "  'a',\n",
       "  'debate',\n",
       "  'on',\n",
       "  'this',\n",
       "  'subject',\n",
       "  'in',\n",
       "  'the',\n",
       "  'course',\n",
       "  'of',\n",
       "  'the',\n",
       "  'next',\n",
       "  'few',\n",
       "  'days,',\n",
       "  'during',\n",
       "  'this',\n",
       "  'part-session.'],\n",
       " ['in',\n",
       "  'the',\n",
       "  'meantime,',\n",
       "  'i',\n",
       "  'should',\n",
       "  'like',\n",
       "  'to',\n",
       "  'observe',\n",
       "  'a',\n",
       "  \"minute'\",\n",
       "  's',\n",
       "  'silence,',\n",
       "  'as',\n",
       "  'a',\n",
       "  'number',\n",
       "  'of',\n",
       "  'members',\n",
       "  'have',\n",
       "  'requested,',\n",
       "  'on',\n",
       "  'behalf',\n",
       "  'of',\n",
       "  'all',\n",
       "  'the',\n",
       "  'victims',\n",
       "  'concerned,',\n",
       "  'particularly',\n",
       "  'those',\n",
       "  'of',\n",
       "  'the',\n",
       "  'terrible',\n",
       "  'storms,',\n",
       "  'in',\n",
       "  'the',\n",
       "  'various',\n",
       "  'countries',\n",
       "  'of',\n",
       "  'the',\n",
       "  'european',\n",
       "  'union.'],\n",
       " ['please', 'rise,', 'then,', 'for', 'this', \"minute'\", 's', 'silence.'],\n",
       " ['(the', 'house', 'rose', 'and', 'observed', 'a', \"minute'\", 's', 'silence)'],\n",
       " ['madam', 'president,', 'on', 'a', 'point', 'of', 'order.'],\n",
       " ['you',\n",
       "  'will',\n",
       "  'be',\n",
       "  'aware',\n",
       "  'from',\n",
       "  'the',\n",
       "  'press',\n",
       "  'and',\n",
       "  'television',\n",
       "  'that',\n",
       "  'there',\n",
       "  'have',\n",
       "  'been',\n",
       "  'a',\n",
       "  'number',\n",
       "  'of',\n",
       "  'bomb',\n",
       "  'explosions',\n",
       "  'and',\n",
       "  'killings',\n",
       "  'in',\n",
       "  'sri',\n",
       "  'lanka.'],\n",
       " ['one',\n",
       "  'of',\n",
       "  'the',\n",
       "  'people',\n",
       "  'assassinated',\n",
       "  'very',\n",
       "  'recently',\n",
       "  'in',\n",
       "  'sri',\n",
       "  'lanka',\n",
       "  'was',\n",
       "  'mr',\n",
       "  'kumar',\n",
       "  'ponnambalam,',\n",
       "  'who',\n",
       "  'had',\n",
       "  'visited',\n",
       "  'the',\n",
       "  'european',\n",
       "  'parliament',\n",
       "  'just',\n",
       "  'a',\n",
       "  'few',\n",
       "  'months',\n",
       "  'ago.']]"
      ]
     },
     "execution_count": 7,
     "metadata": {},
     "output_type": "execute_result"
    }
   ],
   "source": [
    "## A2.2 Part 1\n",
    "en_2.take(10)"
   ]
  },
  {
   "cell_type": "code",
   "execution_count": 8,
   "metadata": {},
   "outputs": [
    {
     "data": {
      "text/plain": [
       "[['återupptagande', 'av', 'sessionen'],\n",
       " ['jag',\n",
       "  'förklarar',\n",
       "  'europaparlamentets',\n",
       "  'session',\n",
       "  'återupptagen',\n",
       "  'efter',\n",
       "  'avbrottet',\n",
       "  'den',\n",
       "  '17',\n",
       "  'december.',\n",
       "  'jag',\n",
       "  'vill',\n",
       "  'på',\n",
       "  'nytt',\n",
       "  'önska',\n",
       "  'er',\n",
       "  'ett',\n",
       "  'gott',\n",
       "  'nytt',\n",
       "  'år',\n",
       "  'och',\n",
       "  'jag',\n",
       "  'hoppas',\n",
       "  'att',\n",
       "  'ni',\n",
       "  'haft',\n",
       "  'en',\n",
       "  'trevlig',\n",
       "  'semester.'],\n",
       " ['som',\n",
       "  'ni',\n",
       "  'kunnat',\n",
       "  'konstatera',\n",
       "  'ägde',\n",
       "  '\"den',\n",
       "  'stora',\n",
       "  'år',\n",
       "  '2000-buggen\"',\n",
       "  'aldrig',\n",
       "  'rum.',\n",
       "  'däremot',\n",
       "  'har',\n",
       "  'invånarna',\n",
       "  'i',\n",
       "  'ett',\n",
       "  'antal',\n",
       "  'av',\n",
       "  'våra',\n",
       "  'medlemsländer',\n",
       "  'drabbats',\n",
       "  'av',\n",
       "  'naturkatastrofer',\n",
       "  'som',\n",
       "  'verkligen',\n",
       "  'varit',\n",
       "  'förskräckliga.'],\n",
       " ['ni',\n",
       "  'har',\n",
       "  'begärt',\n",
       "  'en',\n",
       "  'debatt',\n",
       "  'i',\n",
       "  'ämnet',\n",
       "  'under',\n",
       "  'sammanträdesperiodens',\n",
       "  'kommande',\n",
       "  'dagar.'],\n",
       " ['till',\n",
       "  'dess',\n",
       "  'vill',\n",
       "  'jag',\n",
       "  'att',\n",
       "  'vi,',\n",
       "  'som',\n",
       "  'ett',\n",
       "  'antal',\n",
       "  'kolleger',\n",
       "  'begärt,',\n",
       "  'håller',\n",
       "  'en',\n",
       "  'tyst',\n",
       "  'minut',\n",
       "  'för',\n",
       "  'offren',\n",
       "  'för',\n",
       "  'bl.a.',\n",
       "  'stormarna',\n",
       "  'i',\n",
       "  'de',\n",
       "  'länder',\n",
       "  'i',\n",
       "  'europeiska',\n",
       "  'unionen',\n",
       "  'som',\n",
       "  'drabbats.'],\n",
       " ['jag', 'ber', 'er', 'resa', 'er', 'för', 'en', 'tyst', 'minut.'],\n",
       " ['(parlamentet', 'höll', 'en', 'tyst', 'minut.)'],\n",
       " ['fru', 'talman!', 'det', 'gäller', 'en', 'ordningsfråga.'],\n",
       " ['ni',\n",
       "  'känner',\n",
       "  'till',\n",
       "  'från',\n",
       "  'media',\n",
       "  'att',\n",
       "  'det',\n",
       "  'skett',\n",
       "  'en',\n",
       "  'rad',\n",
       "  'bombexplosioner',\n",
       "  'och',\n",
       "  'mord',\n",
       "  'i',\n",
       "  'sri',\n",
       "  'lanka.'],\n",
       " ['en',\n",
       "  'av',\n",
       "  'de',\n",
       "  'personer',\n",
       "  'som',\n",
       "  'mycket',\n",
       "  'nyligen',\n",
       "  'mördades',\n",
       "  'i',\n",
       "  'sri',\n",
       "  'lanka',\n",
       "  'var',\n",
       "  'kumar',\n",
       "  'ponnambalam,',\n",
       "  'som',\n",
       "  'besökte',\n",
       "  'europaparlamentet',\n",
       "  'för',\n",
       "  'bara',\n",
       "  'några',\n",
       "  'månader',\n",
       "  'sedan.']]"
      ]
     },
     "execution_count": 8,
     "metadata": {},
     "output_type": "execute_result"
    }
   ],
   "source": [
    "## A2.2 Part 2\n",
    "sv_2.take(10)"
   ]
  },
  {
   "cell_type": "code",
   "execution_count": 9,
   "metadata": {},
   "outputs": [
    {
     "name": "stdout",
     "output_type": "stream",
     "text": [
      "1862234\n",
      "1862234\n",
      "Is line count same for the two laguages after pre processing? True\n"
     ]
    }
   ],
   "source": [
    "## A2.3\n",
    "\n",
    "totalLinesEN2 = countLines(en_2)\n",
    "print(totalLinesEN2)\n",
    "totalLinesSV2 = countLines(sv_2)\n",
    "print(totalLinesSV2)\n",
    "print(\"Is line count same for the two laguages after pre processing? \"+ str(totalLinesEN2==totalLinesSV2) )"
   ]
  },
  {
   "cell_type": "code",
   "execution_count": 10,
   "metadata": {},
   "outputs": [
    {
     "data": {
      "text/plain": [
       "[('the', 3498574),\n",
       " ('of', 1659884),\n",
       " ('to', 1539823),\n",
       " ('and', 1288620),\n",
       " ('in', 1086089),\n",
       " ('that', 797576),\n",
       " ('a', 773812),\n",
       " ('is', 758087),\n",
       " ('for', 534270),\n",
       " ('we', 522879)]"
      ]
     },
     "execution_count": 10,
     "metadata": {},
     "output_type": "execute_result"
    }
   ],
   "source": [
    "## A3.1 English\n",
    "\n",
    "en_2.flatMap(lambda a: a).map(lambda word: (word, 1)).reduceByKey(lambda a, b: a + b).sortBy(lambda a: a[1],ascending=False).take(10)\n"
   ]
  },
  {
   "cell_type": "code",
   "execution_count": 11,
   "metadata": {},
   "outputs": [
    {
     "data": {
      "text/plain": [
       "[('att', 1706309),\n",
       " ('och', 1344895),\n",
       " ('i', 1050989),\n",
       " ('det', 924878),\n",
       " ('som', 913302),\n",
       " ('för', 908703),\n",
       " ('av', 738102),\n",
       " ('är', 694389),\n",
       " ('en', 620347),\n",
       " ('vi', 539808)]"
      ]
     },
     "execution_count": 11,
     "metadata": {},
     "output_type": "execute_result"
    }
   ],
   "source": [
    "## A3.1 Swedish\n",
    "\n",
    "sv_2.flatMap(lambda a: a).map(lambda word: (word, 1)).reduceByKey(lambda a, b: a + b).sortBy(lambda a: a[1],ascending=False).take(10)\n"
   ]
  },
  {
   "cell_type": "code",
   "execution_count": 12,
   "metadata": {},
   "outputs": [],
   "source": [
    "## A4\n",
    "\n",
    "en_3 = en_2.zipWithIndex().map(lambda t : (t[1],t[0]))\n",
    "sv_3 = sv_2.zipWithIndex().map(lambda t : (t[1],t[0]))\n"
   ]
  },
  {
   "cell_type": "code",
   "execution_count": 16,
   "metadata": {},
   "outputs": [
    {
     "data": {
      "text/plain": [
       "[(0, ['resumption', 'of', 'the', 'session']),\n",
       " (1,\n",
       "  ['i',\n",
       "   'declare',\n",
       "   'resumed',\n",
       "   'the',\n",
       "   'session',\n",
       "   'of',\n",
       "   'the',\n",
       "   'european',\n",
       "   'parliament',\n",
       "   'adjourned',\n",
       "   'on',\n",
       "   'friday',\n",
       "   '17',\n",
       "   'december',\n",
       "   '1999,',\n",
       "   'and',\n",
       "   'i',\n",
       "   'would',\n",
       "   'like',\n",
       "   'once',\n",
       "   'again',\n",
       "   'to',\n",
       "   'wish',\n",
       "   'you',\n",
       "   'a',\n",
       "   'happy',\n",
       "   'new',\n",
       "   'year',\n",
       "   'in',\n",
       "   'the',\n",
       "   'hope',\n",
       "   'that',\n",
       "   'you',\n",
       "   'enjoyed',\n",
       "   'a',\n",
       "   'pleasant',\n",
       "   'festive',\n",
       "   'period.'])]"
      ]
     },
     "execution_count": 16,
     "metadata": {},
     "output_type": "execute_result"
    }
   ],
   "source": [
    "en_3.take(2)"
   ]
  },
  {
   "cell_type": "code",
   "execution_count": 17,
   "metadata": {},
   "outputs": [
    {
     "data": {
      "text/plain": [
       "[(0, ['återupptagande', 'av', 'sessionen']),\n",
       " (1,\n",
       "  ['jag',\n",
       "   'förklarar',\n",
       "   'europaparlamentets',\n",
       "   'session',\n",
       "   'återupptagen',\n",
       "   'efter',\n",
       "   'avbrottet',\n",
       "   'den',\n",
       "   '17',\n",
       "   'december.',\n",
       "   'jag',\n",
       "   'vill',\n",
       "   'på',\n",
       "   'nytt',\n",
       "   'önska',\n",
       "   'er',\n",
       "   'ett',\n",
       "   'gott',\n",
       "   'nytt',\n",
       "   'år',\n",
       "   'och',\n",
       "   'jag',\n",
       "   'hoppas',\n",
       "   'att',\n",
       "   'ni',\n",
       "   'haft',\n",
       "   'en',\n",
       "   'trevlig',\n",
       "   'semester.'])]"
      ]
     },
     "execution_count": 17,
     "metadata": {},
     "output_type": "execute_result"
    }
   ],
   "source": [
    "sv_3.take(2)"
   ]
  },
  {
   "cell_type": "code",
   "execution_count": 18,
   "metadata": {},
   "outputs": [],
   "source": [
    "joined = en_3.join(sv_3)\n",
    "# joined.take(2)\n",
    "\n"
   ]
  },
  {
   "cell_type": "code",
   "execution_count": 27,
   "metadata": {},
   "outputs": [],
   "source": [
    "# joined.take(10)\n",
    "filterMissing = joined.filter(lambda a: a[1][1] and a[1][0])"
   ]
  },
  {
   "cell_type": "code",
   "execution_count": 28,
   "metadata": {},
   "outputs": [
    {
     "data": {
      "text/plain": [
       "[(1228800,\n",
       "  (['i',\n",
       "    'welcome',\n",
       "    'the',\n",
       "    'high',\n",
       "    \"representative's\",\n",
       "    'announcement',\n",
       "    'today',\n",
       "    'on',\n",
       "    'aid',\n",
       "    'and',\n",
       "    'ask',\n",
       "    'her',\n",
       "    'to',\n",
       "    'ensure',\n",
       "    'that',\n",
       "    'next',\n",
       "    \"week's\",\n",
       "    'meetings',\n",
       "    'address',\n",
       "    'actual',\n",
       "    'commitments',\n",
       "    'of',\n",
       "    'aid',\n",
       "    'money',\n",
       "    'to',\n",
       "    'yemen,',\n",
       "    'from',\n",
       "    'all',\n",
       "    'participants,',\n",
       "    'at',\n",
       "    'a',\n",
       "    'time',\n",
       "    'when',\n",
       "    'the',\n",
       "    \"un's\",\n",
       "    'consolidated',\n",
       "    'appeal',\n",
       "    'for',\n",
       "    'the',\n",
       "    'country',\n",
       "    'has',\n",
       "    'generated',\n",
       "    'less',\n",
       "    'than',\n",
       "    '1%',\n",
       "    'of',\n",
       "    'the',\n",
       "    'funds',\n",
       "    'needed.'],\n",
       "   ['jag',\n",
       "    'välkomnar',\n",
       "    'utrikesrepresentantens',\n",
       "    'tillkännagivande',\n",
       "    'om',\n",
       "    'bistånd',\n",
       "    'i',\n",
       "    'dag',\n",
       "    'och',\n",
       "    'ber',\n",
       "    'henne',\n",
       "    'att',\n",
       "    'se',\n",
       "    'till',\n",
       "    'att',\n",
       "    'man',\n",
       "    'vid',\n",
       "    'nästa',\n",
       "    'veckas',\n",
       "    'möten',\n",
       "    'behandlar',\n",
       "    'faktiska',\n",
       "    'åtaganden',\n",
       "    'från',\n",
       "    'alla',\n",
       "    'deltagare',\n",
       "    'i',\n",
       "    'form',\n",
       "    'av',\n",
       "    'biståndspengar',\n",
       "    'till',\n",
       "    'jemen,',\n",
       "    'vid',\n",
       "    'en',\n",
       "    'tidpunkt',\n",
       "    'då',\n",
       "    'fn:s',\n",
       "    'samlade',\n",
       "    'vädjan',\n",
       "    'om',\n",
       "    'hjälp',\n",
       "    'till',\n",
       "    'landet',\n",
       "    'har',\n",
       "    'resulterat',\n",
       "    'i',\n",
       "    'mindre',\n",
       "    'än',\n",
       "    '1',\n",
       "    'procent',\n",
       "    'av',\n",
       "    'de',\n",
       "    'medel',\n",
       "    'som',\n",
       "    'krävs.'])),\n",
       " (346795,\n",
       "  (['in',\n",
       "    '2004,',\n",
       "    'enlargement',\n",
       "    '-',\n",
       "    'an',\n",
       "    'historic',\n",
       "    'event',\n",
       "    '-',\n",
       "    'will',\n",
       "    'be',\n",
       "    'a',\n",
       "    'reality.'],\n",
       "   ['2004', 'blir', 'den', 'historiska', 'utvidgningen', 'verklighet.'])),\n",
       " (819205,\n",
       "  (['why', 'is', 'what', 'we', 'are', 'doing', 'now', 'historic?'],\n",
       "   ['varför', 'är', 'det', 'vi', 'gör', 'nu', 'historiskt?']))]"
      ]
     },
     "execution_count": 28,
     "metadata": {},
     "output_type": "execute_result"
    }
   ],
   "source": [
    "filterMissing.take(3)"
   ]
  },
  {
   "cell_type": "code",
   "execution_count": 34,
   "metadata": {},
   "outputs": [],
   "source": [
    "filterWordsPerSentence = filterMissing.filter(lambda a: ((len(a[1][1]) <= 5) and (len(a[1][0]) <= 5)) and (len(a[1][1])==len(a[1][0])) )"
   ]
  },
  {
   "cell_type": "code",
   "execution_count": 36,
   "metadata": {},
   "outputs": [
    {
     "data": {
      "text/plain": [
       "[(180365,\n",
       "  (['question', 'no', '31', 'by', '(h-0728/01):'],\n",
       "   ['fråga', 'nr', '31', 'från', '(h-0728/01):'])),\n",
       " (770675, (['(applause)'], ['(applåder)'])),\n",
       " (983810, (['9.'], ['9.'])),\n",
       " (1606450,\n",
       "  (['and', 'they', 'do', 'just', 'that.'],\n",
       "   ['och', 'det', 'gör', 'de', 'också!'])),\n",
       " (1125,\n",
       "  (['i', 'agree', 'with', 'this', 'request.'],\n",
       "   ['jag', 'instämmer', 'i', 'det', 'förslaget.'])),\n",
       " (1475735, (['belarus', '(debate)'], ['vitryssland', '(debatt)'])),\n",
       " (1432155,\n",
       "  (['documents', 'received:', 'see', 'minutes'],\n",
       "   ['inkomna', 'dokument:', 'se', 'protokollet'])),\n",
       " (1738770,\n",
       "  (['that', 'is', 'my', 'experience.'], ['det', 'är', 'min', 'erfarenhet.'])),\n",
       " (853605, (['3.'], ['3.'])),\n",
       " (1066810, (['4.'], ['4.']))]"
      ]
     },
     "execution_count": 36,
     "metadata": {},
     "output_type": "execute_result"
    }
   ],
   "source": [
    "filterWordsPerSentence.take(10)"
   ]
  },
  {
   "cell_type": "code",
   "execution_count": 48,
   "metadata": {},
   "outputs": [],
   "source": [
    "pairs = filterWordsPerSentence.map(lambda a: list(zip(a[1][0],a[1][1]))).flatMap(lambda a: a).map(lambda word: (word, 1))"
   ]
  },
  {
   "cell_type": "code",
   "execution_count": 49,
   "metadata": {},
   "outputs": [
    {
     "data": {
      "text/plain": [
       "[(('question', 'fråga'), 1),\n",
       " (('no', 'nr'), 1),\n",
       " (('31', '31'), 1),\n",
       " (('by', 'från'), 1),\n",
       " (('(h-0728/01):', '(h-0728/01):'), 1),\n",
       " (('(applause)', '(applåder)'), 1),\n",
       " (('9.', '9.'), 1),\n",
       " (('and', 'och'), 1),\n",
       " (('they', 'det'), 1),\n",
       " (('do', 'gör'), 1)]"
      ]
     },
     "execution_count": 49,
     "metadata": {},
     "output_type": "execute_result"
    }
   ],
   "source": [
    "pairs.take(10)"
   ]
  },
  {
   "cell_type": "code",
   "execution_count": 53,
   "metadata": {},
   "outputs": [
    {
     "data": {
      "text/plain": [
       "[(('is', 'är'), 4718),\n",
       " (('closed.', 'avslutad.'), 2971),\n",
       " (('(applause)', '(applåder)'), 2546),\n",
       " (('.', '.'), 2107),\n",
       " (('that', 'det'), 1495),\n",
       " (('we', 'vi'), 1443),\n",
       " (('the', 'jag'), 1336),\n",
       " (('is', 'debatten'), 1327),\n",
       " (('debate', 'förklarar'), 1319),\n",
       " (('the', 'debatten'), 1253),\n",
       " (('is', 'härmed'), 1240),\n",
       " (('debate', 'är'), 1211),\n",
       " (('i', 'jag'), 1179),\n",
       " (('this', 'detta'), 1111),\n",
       " (('it', 'det'), 986),\n",
       " (('written', 'skriftliga'), 893),\n",
       " (('(rule', '(artikel'), 893),\n",
       " (('statements', 'förklaringar'), 801),\n",
       " (('not', 'inte'), 742),\n",
       " (('are', 'är'), 693),\n",
       " (('this', 'det'), 669),\n",
       " (('a', 'en'), 656),\n",
       " (('there', 'det'), 644),\n",
       " (('question', 'fråga'), 564),\n",
       " (('142)', '142)'), 557),\n",
       " (('by', 'från'), 547),\n",
       " (('no', 'nr'), 537),\n",
       " (('that', 'detta'), 512),\n",
       " (('have', 'har'), 475),\n",
       " (('are', 'finns'), 467)]"
      ]
     },
     "execution_count": 53,
     "metadata": {},
     "output_type": "execute_result"
    }
   ],
   "source": [
    "pairCount.take(30)"
   ]
  },
  {
   "cell_type": "code",
   "execution_count": null,
   "metadata": {},
   "outputs": [],
   "source": [
    "# release the cores for another application!\n",
    "spark_context.stop()"
   ]
  }
 ],
 "metadata": {
  "kernelspec": {
   "display_name": "Python 3",
   "language": "python",
   "name": "python3"
  },
  "language_info": {
   "codemirror_mode": {
    "name": "ipython",
    "version": 3
   },
   "file_extension": ".py",
   "mimetype": "text/x-python",
   "name": "python",
   "nbconvert_exporter": "python",
   "pygments_lexer": "ipython3",
   "version": "3.5.2"
  }
 },
 "nbformat": 4,
 "nbformat_minor": 2
}
